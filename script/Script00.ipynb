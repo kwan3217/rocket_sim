{
 "cells": [
  {
   "cell_type": "markdown",
   "id": "312b736e",
   "metadata": {},
   "source": [
    "# Launch Vehicle Guidance\n",
    "\n",
    "A description of one way to do launch vehicle guidance, done in a number of episodes, \n",
    "not to exceed about 10 minutes each (roughly the size of ExpBeatsAll, maybe a little longer).\n",
    "\n",
    "* 100 - Navigation, Guidance, and Control -- What are each of these things, what is the input and output, and how can they all run on the same computer\n",
    "* 200 - Open-loop guidance -- pitch program and point-toward\n",
    "* 300 - Closed-loop guidance\n",
    "   * 310 - Equations of motion\n",
    "   * 320 - Steering program and constants\n",
    "   * 330 - Steering integrals\n",
    "   * 340 - Calculating steering constants\n",
    "   * 350 - Estimating time-to-go and other such\n",
    "* 400 - Targets\n",
    "   * 410 - Parking orbit -- vertical and horizontal state\n",
    "   * 420 - Moon -- estimating polar angle change over flight\n",
    "   * 430 - Interplanetary -- departure hyperbola stuff\n",
    "* 500 - Multistage"
   ]
  },
  {
   "cell_type": "code",
   "execution_count": null,
   "id": "1aa1d918",
   "metadata": {},
   "outputs": [],
   "source": []
  }
 ],
 "metadata": {
  "kernelspec": {
   "display_name": "Python 3",
   "language": "python",
   "name": "python3"
  }
 },
 "nbformat": 4,
 "nbformat_minor": 5
}
